{
  "cells": [
    {
      "cell_type": "code",
      "execution_count": 1,
      "metadata": {
        "colab": {
          "base_uri": "https://localhost:8080/"
        },
        "id": "kAF2LI1iR-bS",
        "outputId": "654c8549-bb4c-4b71-c3dc-5e70ec043382"
      },
      "outputs": [],
      "source": [
        "# from google.colab import drive\n",
        "# drive.mount('/content/drive')"
      ]
    },
    {
      "cell_type": "code",
      "execution_count": 2,
      "metadata": {
        "id": "qMVK-cv5THns"
      },
      "outputs": [],
      "source": [
        "# import os\n",
        "# os.chdir(\"/content/drive/MyDrive/Colab Notebooks/Finpros/\")"
      ]
    },
    {
      "cell_type": "markdown",
      "metadata": {
        "id": "TPplBhUChxQt"
      },
      "source": [
        "#  **1. Import required framework**"
      ]
    },
    {
      "cell_type": "code",
      "execution_count": 3,
      "metadata": {
        "id": "wqWm2m2OQr1I"
      },
      "outputs": [],
      "source": [
        "import pandas as pd\n",
        "import numpy as np\n",
        "import matplotlib.pyplot as plt\n",
        "import scipy.stats as stats\n",
        "import seaborn as sns\n",
        "import datetime\n",
        "import joblib"
      ]
    },
    {
      "cell_type": "markdown",
      "metadata": {
        "id": "p8wqPbdpiKvG"
      },
      "source": [
        "# **2. Loading data**"
      ]
    },
    {
      "cell_type": "code",
      "execution_count": 4,
      "metadata": {
        "id": "Ksp5ly-BSTN_"
      },
      "outputs": [],
      "source": [
        "fpt_df = pd.read_csv('data/FPT.csv')"
      ]
    },
    {
      "cell_type": "code",
      "execution_count": 5,
      "metadata": {
        "id": "Hvh4u-i7hwHf"
      },
      "outputs": [],
      "source": [
        "msn_df = pd.read_csv('data/MSN.csv')"
      ]
    },
    {
      "cell_type": "code",
      "execution_count": 6,
      "metadata": {
        "id": "NE5UVnbgicP0"
      },
      "outputs": [],
      "source": [
        "pnj_df = pd.read_csv('data/PNJ.csv')"
      ]
    },
    {
      "cell_type": "code",
      "execution_count": 7,
      "metadata": {
        "id": "Pl1KXu__ib1y"
      },
      "outputs": [],
      "source": [
        "vic_df = pd.read_csv('data/VIC.csv')"
      ]
    },
    {
      "cell_type": "code",
      "execution_count": 8,
      "metadata": {
        "colab": {
          "base_uri": "https://localhost:8080/"
        },
        "id": "d7xVy4mvTQrp",
        "outputId": "8d6270c0-1249-4736-f6c3-6433f1f91e20"
      },
      "outputs": [
        {
          "name": "stdout",
          "output_type": "stream",
          "text": [
            "(97406, 8)\n",
            "(135354, 8)\n",
            "(125309, 8)\n",
            "(101266, 8)\n"
          ]
        }
      ],
      "source": [
        "print(fpt_df.shape)\n",
        "print(msn_df.shape)\n",
        "print(pnj_df.shape)\n",
        "print(vic_df.shape)"
      ]
    },
    {
      "cell_type": "code",
      "execution_count": 9,
      "metadata": {
        "colab": {
          "base_uri": "https://localhost:8080/"
        },
        "id": "EkMRmu0jjD-s",
        "outputId": "7edcdbe5-a51e-4aed-95e4-74849f80c0cf"
      },
      "outputs": [
        {
          "name": "stdout",
          "output_type": "stream",
          "text": [
            "<class 'pandas.core.frame.DataFrame'>\n",
            "RangeIndex: 97406 entries, 0 to 97405\n",
            "Data columns (total 8 columns):\n",
            " #   Column         Non-Null Count  Dtype  \n",
            "---  ------         --------------  -----  \n",
            " 0   Ticker         97406 non-null  object \n",
            " 1   Date/Time      97406 non-null  object \n",
            " 2   Open           97406 non-null  float64\n",
            " 3   High           97406 non-null  float64\n",
            " 4   Low            97406 non-null  float64\n",
            " 5   Close          97406 non-null  float64\n",
            " 6   Volume         97406 non-null  int64  \n",
            " 7   Open Interest  97406 non-null  int64  \n",
            "dtypes: float64(4), int64(2), object(2)\n",
            "memory usage: 5.9+ MB\n"
          ]
        }
      ],
      "source": [
        "fpt_df.info()"
      ]
    },
    {
      "cell_type": "code",
      "execution_count": 10,
      "metadata": {
        "colab": {
          "base_uri": "https://localhost:8080/"
        },
        "id": "j982Oes5jHnc",
        "outputId": "19727319-5d80-42af-980b-f66168c139ab"
      },
      "outputs": [
        {
          "name": "stdout",
          "output_type": "stream",
          "text": [
            "<class 'pandas.core.frame.DataFrame'>\n",
            "RangeIndex: 135354 entries, 0 to 135353\n",
            "Data columns (total 8 columns):\n",
            " #   Column         Non-Null Count   Dtype  \n",
            "---  ------         --------------   -----  \n",
            " 0   Ticker         135354 non-null  object \n",
            " 1   Date/Time      135354 non-null  object \n",
            " 2   Open           135354 non-null  float64\n",
            " 3   High           135354 non-null  float64\n",
            " 4   Low            135354 non-null  float64\n",
            " 5   Close          135354 non-null  float64\n",
            " 6   Volume         135354 non-null  int64  \n",
            " 7   Open Interest  135354 non-null  int64  \n",
            "dtypes: float64(4), int64(2), object(2)\n",
            "memory usage: 8.3+ MB\n"
          ]
        }
      ],
      "source": [
        "msn_df.info()"
      ]
    },
    {
      "cell_type": "code",
      "execution_count": 11,
      "metadata": {
        "colab": {
          "base_uri": "https://localhost:8080/"
        },
        "id": "oB9_rH0Umg5R",
        "outputId": "96219e00-1bc9-4f87-fa7b-5aa6376d0147"
      },
      "outputs": [
        {
          "name": "stdout",
          "output_type": "stream",
          "text": [
            "<class 'pandas.core.frame.DataFrame'>\n",
            "RangeIndex: 125309 entries, 0 to 125308\n",
            "Data columns (total 8 columns):\n",
            " #   Column         Non-Null Count   Dtype  \n",
            "---  ------         --------------   -----  \n",
            " 0   Ticker         125309 non-null  object \n",
            " 1   Date/Time      125309 non-null  object \n",
            " 2   Open           125309 non-null  float64\n",
            " 3   High           125309 non-null  float64\n",
            " 4   Low            125309 non-null  float64\n",
            " 5   Close          125309 non-null  float64\n",
            " 6   Volume         125309 non-null  int64  \n",
            " 7   Open Interest  125309 non-null  int64  \n",
            "dtypes: float64(4), int64(2), object(2)\n",
            "memory usage: 7.6+ MB\n"
          ]
        }
      ],
      "source": [
        "pnj_df.info()"
      ]
    },
    {
      "cell_type": "code",
      "execution_count": 12,
      "metadata": {
        "colab": {
          "base_uri": "https://localhost:8080/"
        },
        "id": "YKZikipAmk1H",
        "outputId": "76a49c44-f054-4031-ad79-1a1146da2676"
      },
      "outputs": [
        {
          "name": "stdout",
          "output_type": "stream",
          "text": [
            "<class 'pandas.core.frame.DataFrame'>\n",
            "RangeIndex: 101266 entries, 0 to 101265\n",
            "Data columns (total 8 columns):\n",
            " #   Column         Non-Null Count   Dtype  \n",
            "---  ------         --------------   -----  \n",
            " 0   Ticker         101266 non-null  object \n",
            " 1   Date/Time      101266 non-null  object \n",
            " 2   Open           101266 non-null  float64\n",
            " 3   High           101266 non-null  float64\n",
            " 4   Low            101266 non-null  float64\n",
            " 5   Close          101266 non-null  float64\n",
            " 6   Volume         101266 non-null  int64  \n",
            " 7   Open Interest  101266 non-null  int64  \n",
            "dtypes: float64(4), int64(2), object(2)\n",
            "memory usage: 6.2+ MB\n"
          ]
        }
      ],
      "source": [
        "vic_df.info()"
      ]
    },
    {
      "cell_type": "markdown",
      "metadata": {
        "id": "UrX0SwRZodUX"
      },
      "source": [
        "=> Data is not null."
      ]
    },
    {
      "cell_type": "code",
      "execution_count": 13,
      "metadata": {
        "colab": {
          "base_uri": "https://localhost:8080/",
          "height": 206
        },
        "id": "F2qTLPnDnt-c",
        "outputId": "cfae347d-dcb0-4b68-db2b-e7693e776dd6"
      },
      "outputs": [
        {
          "data": {
            "text/html": [
              "<div>\n",
              "<style scoped>\n",
              "    .dataframe tbody tr th:only-of-type {\n",
              "        vertical-align: middle;\n",
              "    }\n",
              "\n",
              "    .dataframe tbody tr th {\n",
              "        vertical-align: top;\n",
              "    }\n",
              "\n",
              "    .dataframe thead th {\n",
              "        text-align: right;\n",
              "    }\n",
              "</style>\n",
              "<table border=\"1\" class=\"dataframe\">\n",
              "  <thead>\n",
              "    <tr style=\"text-align: right;\">\n",
              "      <th></th>\n",
              "      <th>Ticker</th>\n",
              "      <th>Date/Time</th>\n",
              "      <th>Open</th>\n",
              "      <th>High</th>\n",
              "      <th>Low</th>\n",
              "      <th>Close</th>\n",
              "      <th>Volume</th>\n",
              "      <th>Open Interest</th>\n",
              "    </tr>\n",
              "  </thead>\n",
              "  <tbody>\n",
              "    <tr>\n",
              "      <th>0</th>\n",
              "      <td>FPT</td>\n",
              "      <td>12/25/2018 9:15</td>\n",
              "      <td>30.89</td>\n",
              "      <td>30.89</td>\n",
              "      <td>30.89</td>\n",
              "      <td>30.89</td>\n",
              "      <td>35410</td>\n",
              "      <td>0</td>\n",
              "    </tr>\n",
              "    <tr>\n",
              "      <th>1</th>\n",
              "      <td>FPT</td>\n",
              "      <td>12/25/2018 9:16</td>\n",
              "      <td>30.81</td>\n",
              "      <td>30.81</td>\n",
              "      <td>30.81</td>\n",
              "      <td>30.81</td>\n",
              "      <td>190</td>\n",
              "      <td>0</td>\n",
              "    </tr>\n",
              "    <tr>\n",
              "      <th>2</th>\n",
              "      <td>FPT</td>\n",
              "      <td>12/25/2018 9:17</td>\n",
              "      <td>30.74</td>\n",
              "      <td>30.81</td>\n",
              "      <td>30.74</td>\n",
              "      <td>30.74</td>\n",
              "      <td>1120</td>\n",
              "      <td>0</td>\n",
              "    </tr>\n",
              "    <tr>\n",
              "      <th>3</th>\n",
              "      <td>FPT</td>\n",
              "      <td>12/25/2018 9:18</td>\n",
              "      <td>30.74</td>\n",
              "      <td>30.74</td>\n",
              "      <td>30.74</td>\n",
              "      <td>30.74</td>\n",
              "      <td>2120</td>\n",
              "      <td>0</td>\n",
              "    </tr>\n",
              "    <tr>\n",
              "      <th>4</th>\n",
              "      <td>FPT</td>\n",
              "      <td>12/25/2018 9:19</td>\n",
              "      <td>30.74</td>\n",
              "      <td>30.74</td>\n",
              "      <td>30.74</td>\n",
              "      <td>30.74</td>\n",
              "      <td>22500</td>\n",
              "      <td>0</td>\n",
              "    </tr>\n",
              "  </tbody>\n",
              "</table>\n",
              "</div>"
            ],
            "text/plain": [
              "  Ticker        Date/Time   Open   High    Low  Close  Volume  Open Interest\n",
              "0    FPT  12/25/2018 9:15  30.89  30.89  30.89  30.89   35410              0\n",
              "1    FPT  12/25/2018 9:16  30.81  30.81  30.81  30.81     190              0\n",
              "2    FPT  12/25/2018 9:17  30.74  30.81  30.74  30.74    1120              0\n",
              "3    FPT  12/25/2018 9:18  30.74  30.74  30.74  30.74    2120              0\n",
              "4    FPT  12/25/2018 9:19  30.74  30.74  30.74  30.74   22500              0"
            ]
          },
          "execution_count": 13,
          "metadata": {},
          "output_type": "execute_result"
        }
      ],
      "source": [
        "fpt_df.head()"
      ]
    },
    {
      "cell_type": "code",
      "execution_count": 14,
      "metadata": {
        "colab": {
          "base_uri": "https://localhost:8080/"
        },
        "id": "s5xAwj4RoXCP",
        "outputId": "68e17848-2be0-437b-99a7-c313dd5fc334"
      },
      "outputs": [
        {
          "name": "stdout",
          "output_type": "stream",
          "text": [
            "0\n",
            "0\n",
            "0\n",
            "0\n"
          ]
        }
      ],
      "source": [
        "print(fpt_df.duplicated().sum())\n",
        "print(msn_df.duplicated().sum())\n",
        "print(pnj_df.duplicated().sum())\n",
        "print(vic_df.duplicated().sum())"
      ]
    },
    {
      "cell_type": "markdown",
      "metadata": {
        "id": "sghSe4YXosmS"
      },
      "source": [
        "=> Data does not contain any duplicate value."
      ]
    },
    {
      "cell_type": "code",
      "execution_count": 15,
      "metadata": {
        "id": "qRaPiEbfqmkO"
      },
      "outputs": [],
      "source": [
        "fpt_df['Date/Time'] = pd.to_datetime(fpt_df['Date/Time'])\n",
        "msn_df['Date/Time'] = pd.to_datetime(msn_df['Date/Time'])\n",
        "pnj_df['Date/Time'] = pd.to_datetime(pnj_df['Date/Time'])\n",
        "vic_df['Date/Time'] = pd.to_datetime(vic_df['Date/Time'])\n"
      ]
    },
    {
      "cell_type": "markdown",
      "metadata": {},
      "source": [
        "# **I think that we should build models for different Ticker, because each Ticker has separate trend and charateristic.**"
      ]
    },
    {
      "cell_type": "markdown",
      "metadata": {
        "id": "T2cobHwUoLP8"
      },
      "source": [
        "# **3. Visualization**"
      ]
    },
    {
      "cell_type": "code",
      "execution_count": 16,
      "metadata": {
        "id": "b2otY7yQoVhm"
      },
      "outputs": [],
      "source": [
        "def line_plot(df, x, y, title, xlabel, ylabel):\n",
        "  plt.figure(figsize=(10, 5))\n",
        "  lp = sns.lineplot(data=df, x=x, y=y)\n",
        "\n",
        "  lp.set(xticklabels=[])\n",
        "  lp.tick_params(bottom=False)\n",
        "\n",
        "  plt.title(title)\n",
        "  plt.xlabel(xlabel)\n",
        "  plt.ylabel(ylabel)\n",
        "  plt.show"
      ]
    },
    {
      "cell_type": "code",
      "execution_count": 17,
      "metadata": {
        "id": "jE2YMsR7pGNf"
      },
      "outputs": [
        {
          "data": {
            "image/png": "[encoded data removed]",
            "text/plain": [
              "<Figure size 1000x500 with 1 Axes>"
            ]
          },
          "metadata": {},
          "output_type": "display_data"
        }
      ],
      "source": [
        "line_plot(fpt_df.iloc[:1000], 'Date/Time', 'Close', 'FPT 1000 Stock Closed Price', 'Date', 'Close')"
      ]
    },
    {
      "cell_type": "code",
      "execution_count": 18,
      "metadata": {
        "id": "zAb4xgaKqpMv"
      },
      "outputs": [
        {
          "data": {
            "image/png": "[encoded data removed]",
            "text/plain": [
              "<Figure size 1000x500 with 1 Axes>"
            ]
          },
          "metadata": {},
          "output_type": "display_data"
        }
      ],
      "source": [
        "line_plot(fpt_df.iloc[:1000], 'Date/Time', 'Open', 'FPT 1000 Stock Opened Price', 'Date', 'Close')"
      ]
    },
    {
      "cell_type": "code",
      "execution_count": 19,
      "metadata": {
        "id": "g4lIMX72t66t"
      },
      "outputs": [
        {
          "data": {
            "image/png": "[encoded data removed]",
            "text/plain": [
              "<Figure size 1000x500 with 1 Axes>"
            ]
          },
          "metadata": {},
          "output_type": "display_data"
        }
      ],
      "source": [
        "line_plot(fpt_df.iloc[:1000], 'Date/Time', 'High', 'FPT 1000 Stock HighestPrice', 'Date', 'Close')"
      ]
    },
    {
      "cell_type": "code",
      "execution_count": 20,
      "metadata": {
        "id": "zgzxzIyqt9mF"
      },
      "outputs": [
        {
          "data": {
            "image/png": "[encoded data removed]",
            "text/plain": [
              "<Figure size 1000x500 with 1 Axes>"
            ]
          },
          "metadata": {},
          "output_type": "display_data"
        }
      ],
      "source": [
        "line_plot(fpt_df.iloc[:1000], 'Date/Time', 'Low', 'FPT 1000 Stock Lowest Price', 'Date', 'Close')"
      ]
    },
    {
      "cell_type": "code",
      "execution_count": 21,
      "metadata": {
        "colab": {
          "base_uri": "https://localhost:8080/",
          "height": 175
        },
        "id": "5ZjKKOtMvLNg",
        "outputId": "a1491959-b89d-4970-eb4e-49e33a389bb9"
      },
      "outputs": [
        {
          "data": {
            "text/html": [
              "<div>\n",
              "<style scoped>\n",
              "    .dataframe tbody tr th:only-of-type {\n",
              "        vertical-align: middle;\n",
              "    }\n",
              "\n",
              "    .dataframe tbody tr th {\n",
              "        vertical-align: top;\n",
              "    }\n",
              "\n",
              "    .dataframe thead th {\n",
              "        text-align: right;\n",
              "    }\n",
              "</style>\n",
              "<table border=\"1\" class=\"dataframe\">\n",
              "  <thead>\n",
              "    <tr style=\"text-align: right;\">\n",
              "      <th></th>\n",
              "      <th>Open</th>\n",
              "      <th>High</th>\n",
              "      <th>Low</th>\n",
              "      <th>Close</th>\n",
              "    </tr>\n",
              "  </thead>\n",
              "  <tbody>\n",
              "    <tr>\n",
              "      <th>Open</th>\n",
              "      <td>1.000000</td>\n",
              "      <td>0.999982</td>\n",
              "      <td>0.999980</td>\n",
              "      <td>0.999970</td>\n",
              "    </tr>\n",
              "    <tr>\n",
              "      <th>High</th>\n",
              "      <td>0.999982</td>\n",
              "      <td>1.000000</td>\n",
              "      <td>0.999968</td>\n",
              "      <td>0.999982</td>\n",
              "    </tr>\n",
              "    <tr>\n",
              "      <th>Low</th>\n",
              "      <td>0.999980</td>\n",
              "      <td>0.999968</td>\n",
              "      <td>1.000000</td>\n",
              "      <td>0.999980</td>\n",
              "    </tr>\n",
              "    <tr>\n",
              "      <th>Close</th>\n",
              "      <td>0.999970</td>\n",
              "      <td>0.999982</td>\n",
              "      <td>0.999980</td>\n",
              "      <td>1.000000</td>\n",
              "    </tr>\n",
              "  </tbody>\n",
              "</table>\n",
              "</div>"
            ],
            "text/plain": [
              "           Open      High       Low     Close\n",
              "Open   1.000000  0.999982  0.999980  0.999970\n",
              "High   0.999982  1.000000  0.999968  0.999982\n",
              "Low    0.999980  0.999968  1.000000  0.999980\n",
              "Close  0.999970  0.999982  0.999980  1.000000"
            ]
          },
          "execution_count": 21,
          "metadata": {},
          "output_type": "execute_result"
        }
      ],
      "source": [
        "fpt_df[['Open', 'High', 'Low', 'Close']].corr()"
      ]
    },
    {
      "cell_type": "markdown",
      "metadata": {
        "id": "nW8QgzDCvK2d"
      },
      "source": [
        "=> These features are almost similar."
      ]
    },
    {
      "cell_type": "markdown",
      "metadata": {
        "id": "O6w1tHWbw2rf"
      },
      "source": [
        "**We need to create the price functuation column**"
      ]
    },
    {
      "cell_type": "code",
      "execution_count": 22,
      "metadata": {
        "id": "ibn8qjQkxLZu"
      },
      "outputs": [],
      "source": [
        "def create_target_column(df, shift, ok=False):\n",
        "  df['Target'] = df['Close'].shift(shift) - (df['Close'] if ok else 0)\n",
        "  return df"
      ]
    },
    {
      "cell_type": "markdown",
      "metadata": {
        "id": "qVx_11jxJwz-"
      },
      "source": [
        "> => The function above is used to create the target column, `ok` is a params that make the target column be the price functuation if `ok`=True else the target column will be the  'future price'.\n",
        "\n",
        "> `shift` is the `N` minutes provided in the task."
      ]
    },
    {
      "cell_type": "code",
      "execution_count": 23,
      "metadata": {
        "id": "kHcht6MQxwW8"
      },
      "outputs": [],
      "source": [
        "df1 = create_target_column(fpt_df.copy(deep=True), 30, True)"
      ]
    },
    {
      "cell_type": "code",
      "execution_count": 24,
      "metadata": {
        "id": "w6IYVpUHLP-K"
      },
      "outputs": [],
      "source": [
        "df2 = create_target_column(fpt_df.copy(deep=True), 30)"
      ]
    },
    {
      "cell_type": "code",
      "execution_count": 25,
      "metadata": {
        "id": "atbGS7Amxzip"
      },
      "outputs": [],
      "source": [
        "df1.dropna(inplace=True)\n",
        "df2.dropna(inplace=True)"
      ]
    },
    {
      "cell_type": "code",
      "execution_count": 26,
      "metadata": {
        "colab": {
          "base_uri": "https://localhost:8080/",
          "height": 206
        },
        "id": "mtoOElyuI_40",
        "outputId": "1ba55b36-663a-4cbc-cb63-e03bd9170d77"
      },
      "outputs": [
        {
          "data": {
            "text/html": [
              "<div>\n",
              "<style scoped>\n",
              "    .dataframe tbody tr th:only-of-type {\n",
              "        vertical-align: middle;\n",
              "    }\n",
              "\n",
              "    .dataframe tbody tr th {\n",
              "        vertical-align: top;\n",
              "    }\n",
              "\n",
              "    .dataframe thead th {\n",
              "        text-align: right;\n",
              "    }\n",
              "</style>\n",
              "<table border=\"1\" class=\"dataframe\">\n",
              "  <thead>\n",
              "    <tr style=\"text-align: right;\">\n",
              "      <th></th>\n",
              "      <th>Open</th>\n",
              "      <th>High</th>\n",
              "      <th>Low</th>\n",
              "      <th>Close</th>\n",
              "      <th>Target</th>\n",
              "    </tr>\n",
              "  </thead>\n",
              "  <tbody>\n",
              "    <tr>\n",
              "      <th>Open</th>\n",
              "      <td>1.000000</td>\n",
              "      <td>0.999981</td>\n",
              "      <td>0.999980</td>\n",
              "      <td>0.999970</td>\n",
              "      <td>-0.019123</td>\n",
              "    </tr>\n",
              "    <tr>\n",
              "      <th>High</th>\n",
              "      <td>0.999981</td>\n",
              "      <td>1.000000</td>\n",
              "      <td>0.999968</td>\n",
              "      <td>0.999981</td>\n",
              "      <td>-0.019526</td>\n",
              "    </tr>\n",
              "    <tr>\n",
              "      <th>Low</th>\n",
              "      <td>0.999980</td>\n",
              "      <td>0.999968</td>\n",
              "      <td>1.000000</td>\n",
              "      <td>0.999980</td>\n",
              "      <td>-0.019601</td>\n",
              "    </tr>\n",
              "    <tr>\n",
              "      <th>Close</th>\n",
              "      <td>0.999970</td>\n",
              "      <td>0.999981</td>\n",
              "      <td>0.999980</td>\n",
              "      <td>1.000000</td>\n",
              "      <td>-0.020169</td>\n",
              "    </tr>\n",
              "    <tr>\n",
              "      <th>Target</th>\n",
              "      <td>-0.019123</td>\n",
              "      <td>-0.019526</td>\n",
              "      <td>-0.019601</td>\n",
              "      <td>-0.020169</td>\n",
              "      <td>1.000000</td>\n",
              "    </tr>\n",
              "  </tbody>\n",
              "</table>\n",
              "</div>"
            ],
            "text/plain": [
              "            Open      High       Low     Close    Target\n",
              "Open    1.000000  0.999981  0.999980  0.999970 -0.019123\n",
              "High    0.999981  1.000000  0.999968  0.999981 -0.019526\n",
              "Low     0.999980  0.999968  1.000000  0.999980 -0.019601\n",
              "Close   0.999970  0.999981  0.999980  1.000000 -0.020169\n",
              "Target -0.019123 -0.019526 -0.019601 -0.020169  1.000000"
            ]
          },
          "execution_count": 26,
          "metadata": {},
          "output_type": "execute_result"
        }
      ],
      "source": [
        "df1[['Open', 'High', 'Low', 'Close', 'Target']].corr()"
      ]
    },
    {
      "cell_type": "code",
      "execution_count": 27,
      "metadata": {
        "colab": {
          "base_uri": "https://localhost:8080/",
          "height": 206
        },
        "id": "7Fyl7TqPLYUe",
        "outputId": "15a668ac-fc22-4d11-961e-3f72f44063f0"
      },
      "outputs": [
        {
          "data": {
            "text/html": [
              "<div>\n",
              "<style scoped>\n",
              "    .dataframe tbody tr th:only-of-type {\n",
              "        vertical-align: middle;\n",
              "    }\n",
              "\n",
              "    .dataframe tbody tr th {\n",
              "        vertical-align: top;\n",
              "    }\n",
              "\n",
              "    .dataframe thead th {\n",
              "        text-align: right;\n",
              "    }\n",
              "</style>\n",
              "<table border=\"1\" class=\"dataframe\">\n",
              "  <thead>\n",
              "    <tr style=\"text-align: right;\">\n",
              "      <th></th>\n",
              "      <th>Open</th>\n",
              "      <th>High</th>\n",
              "      <th>Low</th>\n",
              "      <th>Close</th>\n",
              "      <th>Target</th>\n",
              "    </tr>\n",
              "  </thead>\n",
              "  <tbody>\n",
              "    <tr>\n",
              "      <th>Open</th>\n",
              "      <td>1.000000</td>\n",
              "      <td>0.999981</td>\n",
              "      <td>0.999980</td>\n",
              "      <td>0.999970</td>\n",
              "      <td>0.999012</td>\n",
              "    </tr>\n",
              "    <tr>\n",
              "      <th>High</th>\n",
              "      <td>0.999981</td>\n",
              "      <td>1.000000</td>\n",
              "      <td>0.999968</td>\n",
              "      <td>0.999981</td>\n",
              "      <td>0.999005</td>\n",
              "    </tr>\n",
              "    <tr>\n",
              "      <th>Low</th>\n",
              "      <td>0.999980</td>\n",
              "      <td>0.999968</td>\n",
              "      <td>1.000000</td>\n",
              "      <td>0.999980</td>\n",
              "      <td>0.999000</td>\n",
              "    </tr>\n",
              "    <tr>\n",
              "      <th>Close</th>\n",
              "      <td>0.999970</td>\n",
              "      <td>0.999981</td>\n",
              "      <td>0.999980</td>\n",
              "      <td>1.000000</td>\n",
              "      <td>0.998995</td>\n",
              "    </tr>\n",
              "    <tr>\n",
              "      <th>Target</th>\n",
              "      <td>0.999012</td>\n",
              "      <td>0.999005</td>\n",
              "      <td>0.999000</td>\n",
              "      <td>0.998995</td>\n",
              "      <td>1.000000</td>\n",
              "    </tr>\n",
              "  </tbody>\n",
              "</table>\n",
              "</div>"
            ],
            "text/plain": [
              "            Open      High       Low     Close    Target\n",
              "Open    1.000000  0.999981  0.999980  0.999970  0.999012\n",
              "High    0.999981  1.000000  0.999968  0.999981  0.999005\n",
              "Low     0.999980  0.999968  1.000000  0.999980  0.999000\n",
              "Close   0.999970  0.999981  0.999980  1.000000  0.998995\n",
              "Target  0.999012  0.999005  0.999000  0.998995  1.000000"
            ]
          },
          "execution_count": 27,
          "metadata": {},
          "output_type": "execute_result"
        }
      ],
      "source": [
        "df2[['Open', 'High', 'Low', 'Close', 'Target']].corr()"
      ]
    },
    {
      "cell_type": "markdown",
      "metadata": {
        "id": "13iQedj1MiZD"
      },
      "source": [
        "> You can see that `df2` has high correllation between `Target` and our features. I think that is very good for our prediction, so I will choose the second method to create the target column, which has `ok = False`"
      ]
    },
    {
      "cell_type": "code",
      "execution_count": 28,
      "metadata": {
        "id": "ar9bNhvoNogm"
      },
      "outputs": [],
      "source": [
        "fpt_df = create_target_column(fpt_df, 30, False)\n",
        "fpt_df.dropna(inplace=True)"
      ]
    },
    {
      "cell_type": "markdown",
      "metadata": {
        "id": "Ch3Baw21yrVE"
      },
      "source": [
        "# **4. Using model to predict**"
      ]
    },
    {
      "cell_type": "code",
      "execution_count": 29,
      "metadata": {
        "id": "i3sX12lMyx6Y"
      },
      "outputs": [],
      "source": [
        "from sklearn.model_selection import train_test_split, TimeSeriesSplit\n",
        "from sklearn.linear_model import LinearRegression\n",
        "from sklearn.preprocessing import StandardScaler\n",
        "from sklearn.svm import SVR\n",
        "from sklearn.metrics import mean_squared_error"
      ]
    },
    {
      "cell_type": "code",
      "execution_count": 30,
      "metadata": {
        "colab": {
          "base_uri": "https://localhost:8080/"
        },
        "id": "4eHrLXv5zZFf",
        "outputId": "4c6ae3eb-96ae-46fe-eaf0-744aee87770c"
      },
      "outputs": [],
      "source": [
        "feature = ['Open', 'High', 'Low', 'Volume', 'Close', 'Open Interest']\n",
        "target = 'Target'\n"
      ]
    },
    {
      "cell_type": "code",
      "execution_count": 31,
      "metadata": {
        "id": "qYPU8l9Vy4cf"
      },
      "outputs": [],
      "source": [
        "def get_X_y_scaled(df, feature, target, scaler):\n",
        "  X = fpt_df[feature]\n",
        "  y = fpt_df[target]\n",
        "\n",
        "  print(y.mean())\n",
        "\n",
        "  scaler = StandardScaler()\n",
        "\n",
        "  X = scaler.fit_transform(X)\n",
        "  y = scaler.fit_transform(y.values.reshape(-1, 1))\n",
        "  return X, y, scaler\n",
        "\n",
        "def time_split_data(df, feature, target, scaler):\n",
        "  X, y, scaler = get_X_y_scaled(df, feature, target, scaler)\n",
        "  tscv = TimeSeriesSplit(n_splits=5)\n",
        "  for train_index, test_index in tscv.split(X):\n",
        "      X_train, X_test = X[train_index], X[test_index]\n",
        "      y_train, y_test = y[train_index], y[test_index]\n",
        "  return X_train, X_test, y_train, y_test, scaler"
      ]
    },
    {
      "cell_type": "code",
      "execution_count": 32,
      "metadata": {
        "id": "ZTTey2PAzGuy"
      },
      "outputs": [
        {
          "name": "stdout",
          "output_type": "stream",
          "text": [
            "45.06759139829116\n"
          ]
        }
      ],
      "source": [
        "scaler = StandardScaler()\n",
        "\n",
        "X_train, X_test, y_train, y_test, scaler = time_split_data(fpt_df, feature, target, scaler)"
      ]
    },
    {
      "cell_type": "code",
      "execution_count": 33,
      "metadata": {
        "id": "s9-BJai8z03F"
      },
      "outputs": [],
      "source": [
        "def train(model, X_train, y_train):\n",
        "  model.fit(X_train, y_train)\n",
        "  return model\n",
        "\n",
        "def predict(model, X_train, X_test, y_train, y_test):\n",
        "  model = train(model, X_train, y_train)\n",
        "  return model.predict(X_test)\n",
        "\n",
        "def get_score(model, X_train, X_test, y_train, y_test):\n",
        "  model = train(model, X_train, y_train)\n",
        "  y_pred = model.predict(X_test)\n",
        "  rmse = mean_squared_error(y_test, y_pred, squared=False)\n",
        "  return model.score(X_test, y_test), rmse, model"
      ]
    },
    {
      "cell_type": "code",
      "execution_count": 34,
      "metadata": {
        "id": "NY4tYFAj3MBh"
      },
      "outputs": [],
      "source": [
        "model1 = LinearRegression()\n",
        "# model2 = SVR(kernel='linear', C=100, gamma=0.1)\n",
        "\n"
      ]
    },
    {
      "cell_type": "code",
      "execution_count": 35,
      "metadata": {
        "colab": {
          "base_uri": "https://localhost:8080/"
        },
        "id": "MzCycVUhIvgN",
        "outputId": "6b8cf397-bfbe-41c2-ddda-7bdbe21564d1"
      },
      "outputs": [
        {
          "name": "stdout",
          "output_type": "stream",
          "text": [
            "===> LR RMSE: 0.042722266117644986\n"
          ]
        }
      ],
      "source": [
        "_, rmse, model1 = get_score(model1, X_train, X_test, y_train, y_test)\n",
        "print('===> LR RMSE:', rmse)"
      ]
    },
    {
      "cell_type": "markdown",
      "metadata": {
        "id": "J35NWukZpSJG"
      },
      "source": [
        "**Can we do it better?**"
      ]
    },
    {
      "cell_type": "markdown",
      "metadata": {
        "id": "lgX_vpnHrB84"
      },
      "source": [
        "=> Use Long - Short Term Memory model (LTSM - RNN) to predict this time series problem."
      ]
    },
    {
      "cell_type": "code",
      "execution_count": 36,
      "metadata": {
        "id": "4_WsvWWlrQZJ"
      },
      "outputs": [],
      "source": [
        "import torch\n",
        "import torch.nn as nn\n",
        "import torch.optim as optim\n",
        "from torch.utils.data import DataLoader, TensorDataset"
      ]
    },
    {
      "cell_type": "code",
      "execution_count": 37,
      "metadata": {
        "id": "RbChijzKs8q8"
      },
      "outputs": [],
      "source": [
        "X_train_tensors = torch.Tensor(X_train)\n",
        "X_test_tensors = torch.Tensor(X_test)\n",
        "y_train_tensors = torch.Tensor(y_train)\n",
        "y_test_tensors = torch.Tensor(y_test)"
      ]
    },
    {
      "cell_type": "code",
      "execution_count": 38,
      "metadata": {
        "id": "m1RKjZ2Ys_Tc"
      },
      "outputs": [],
      "source": [
        "train_dataset = TensorDataset(X_train_tensors, y_train_tensors)\n",
        "test_dataset = TensorDataset(X_test_tensors, y_test_tensors)\n",
        "\n",
        "train_loader = DataLoader(train_dataset, batch_size=32, shuffle=True)\n",
        "test_loader = DataLoader(test_dataset, batch_size=32, shuffle=False)"
      ]
    },
    {
      "cell_type": "code",
      "execution_count": 39,
      "metadata": {},
      "outputs": [],
      "source": [
        "def get_data_loader(X_train, X_test, y_train, y_test):\n",
        "  X_train_tensors = torch.Tensor(X_train)\n",
        "  X_test_tensors = torch.Tensor(X_test)\n",
        "  y_train_tensors = torch.Tensor(y_train)\n",
        "  y_test_tensors = torch.Tensor(y_test)\n",
        "\n",
        "  train_dataset = TensorDataset(X_train_tensors, y_train_tensors)\n",
        "  test_dataset = TensorDataset(X_test_tensors, y_test_tensors)\n",
        "\n",
        "  train_loader = DataLoader(train_dataset, batch_size=32, shuffle=True)\n",
        "  test_loader = DataLoader(test_dataset, batch_size=32, shuffle=False)\n",
        "\n",
        "  return train_loader, test_loader"
      ]
    },
    {
      "cell_type": "markdown",
      "metadata": {
        "id": "2nxau55LtoWQ"
      },
      "source": [
        "**Build LSTM model**"
      ]
    },
    {
      "cell_type": "code",
      "execution_count": 40,
      "metadata": {
        "id": "QNpbz35EtCix"
      },
      "outputs": [],
      "source": [
        "class StockLSTM(nn.Module):\n",
        "    def __init__(self, input_size, hidden_size, num_layers, output_size):\n",
        "        super(StockLSTM, self).__init__()\n",
        "        self.hidden_size = hidden_size\n",
        "        self.num_layers = num_layers\n",
        "        self.lstm = nn.LSTM(input_size, hidden_size, num_layers, batch_first=True)\n",
        "        self.fc = nn.Linear(hidden_size, output_size)\n",
        "\n",
        "    def forward(self, x):\n",
        "        # h0 = torch.zeros(self.num_layers, self.hidden_size).to(x.device)\n",
        "        # c0 = torch.zeros(self.num_layers, self.hidden_size).to(x.device)\n",
        "        # print(h0.dim(), c0.dim())\n",
        "        out, _ = self.lstm(x)\n",
        "        # print(out.size())\n",
        "        out = self.fc(out)\n",
        "        return out\n",
        "\n",
        "input_size = X_train.shape[1]\n",
        "hidden_size = 50\n",
        "num_layers = 2\n",
        "output_size = 1\n",
        "\n",
        "model2 = StockLSTM(input_size, hidden_size, num_layers, output_size)\n"
      ]
    },
    {
      "cell_type": "code",
      "execution_count": 41,
      "metadata": {
        "colab": {
          "base_uri": "https://localhost:8080/"
        },
        "id": "R0k-cVFItsiO",
        "outputId": "fc58b4e3-ad71-4b57-c4b5-76954a41c932"
      },
      "outputs": [],
      "source": [
        "def train_lstm(device, model, train_loader, epochs, lr):\n",
        "    model.to(device)\n",
        "    # Define Loss Function and Optimizer\n",
        "    criterion = nn.MSELoss()\n",
        "    optimizer = optim.Adam(model.parameters(), lr=lr)\n",
        "\n",
        "    # Training model\n",
        "    for epoch in range(epochs):\n",
        "        model.train()\n",
        "        for X_batch, y_batch in train_loader:\n",
        "            X_batch, y_batch = X_batch.to(device), y_batch.to(device)\n",
        "            optimizer.zero_grad()\n",
        "            # print(X_batch.size())\n",
        "            outputs = model(X_batch)\n",
        "            # print(outputs.size())\n",
        "            # print(y_batch)\n",
        "            loss = criterion(outputs, y_batch)\n",
        "            loss.backward()\n",
        "            optimizer.step()\n",
        "\n",
        "        print(f'Epoch [{epoch+1}/{epochs}], Loss: {loss.item():.4f}')\n"
      ]
    },
    {
      "cell_type": "code",
      "execution_count": 42,
      "metadata": {
        "colab": {
          "base_uri": "https://localhost:8080/"
        },
        "id": "BAp-IPb3umTV",
        "outputId": "914441cf-f7db-4980-c227-6b413ff8af12"
      },
      "outputs": [],
      "source": [
        "def get_score_lstm(model, train_loader, test_loader):    \n",
        "    device = torch.device('cuda' if torch.cuda.is_available() else 'cpu')\n",
        "    # Train\n",
        "    train_lstm(device, model, train_loader, epochs=30, lr=0.001)\n",
        "    \n",
        "    \n",
        "    # Predict\n",
        "    model.eval()\n",
        "    y_pred = []\n",
        "    with torch.no_grad():\n",
        "        for X_batch, _ in test_loader:\n",
        "            X_batch = X_batch.to(device)\n",
        "            outputs = model(X_batch)\n",
        "            y_pred.append(outputs.cpu().numpy())\n",
        "\n",
        "    y_pred = np.concatenate(y_pred)\n",
        "\n",
        "    # print(y_pred.shape)\n",
        "    # print(y_test.shape)\n",
        "\n",
        "    # y_pred = scaler.inverse_transform(y_pred)\n",
        "    # y_test = scaler.inverse_transform(y_test)\n",
        "\n",
        "    # Evaluate LSTM model\n",
        "    rmse = mean_squared_error(y_test, y_pred, squared=False)\n",
        "    return rmse, model"
      ]
    },
    {
      "cell_type": "code",
      "execution_count": 43,
      "metadata": {},
      "outputs": [
        {
          "name": "stdout",
          "output_type": "stream",
          "text": [
            "Epoch [1/30], Loss: 0.0034\n",
            "Epoch [2/30], Loss: 0.0015\n",
            "Epoch [3/30], Loss: 0.0011\n",
            "Epoch [4/30], Loss: 0.0023\n",
            "Epoch [5/30], Loss: 0.0021\n",
            "Epoch [6/30], Loss: 0.0015\n",
            "Epoch [7/30], Loss: 0.0020\n",
            "Epoch [8/30], Loss: 0.0012\n",
            "Epoch [9/30], Loss: 0.0013\n",
            "Epoch [10/30], Loss: 0.0021\n",
            "Epoch [11/30], Loss: 0.0012\n",
            "Epoch [12/30], Loss: 0.0014\n",
            "Epoch [13/30], Loss: 0.0021\n",
            "Epoch [14/30], Loss: 0.0016\n",
            "Epoch [15/30], Loss: 0.0028\n",
            "Epoch [16/30], Loss: 0.0020\n",
            "Epoch [17/30], Loss: 0.0016\n",
            "Epoch [18/30], Loss: 0.0043\n",
            "Epoch [19/30], Loss: 0.0013\n",
            "Epoch [20/30], Loss: 0.0009\n",
            "Epoch [21/30], Loss: 0.0038\n",
            "Epoch [22/30], Loss: 0.0012\n",
            "Epoch [23/30], Loss: 0.0011\n",
            "Epoch [24/30], Loss: 0.0013\n",
            "Epoch [25/30], Loss: 0.0020\n",
            "Epoch [26/30], Loss: 0.0009\n",
            "Epoch [27/30], Loss: 0.0014\n",
            "Epoch [28/30], Loss: 0.0024\n",
            "Epoch [29/30], Loss: 0.0017\n",
            "Epoch [30/30], Loss: 0.0016\n",
            "\n",
            "\n",
            "===> LSTM RMSE: 0.18338172216727427\n"
          ]
        }
      ],
      "source": [
        "score, model2 = get_score_lstm(model2, train_loader, test_loader)\n",
        "print('\\n\\n===> LSTM RMSE:', score)"
      ]
    },
    {
      "cell_type": "markdown",
      "metadata": {},
      "source": [
        "> => This model is not as good as LinearRegression."
      ]
    },
    {
      "cell_type": "markdown",
      "metadata": {},
      "source": [
        "# **5. Feature exploration**"
      ]
    },
    {
      "cell_type": "markdown",
      "metadata": {},
      "source": [
        "## 5.1 Moving average (MA)\n",
        "- MA is the average price of votes over a certain period of time. Typically, there is a short-term MA limit (e.g. 5 days) and a long-term MA limit (e.g. 50 days)."
      ]
    },
    {
      "cell_type": "code",
      "execution_count": 44,
      "metadata": {},
      "outputs": [],
      "source": [
        "def MA(df, window):\n",
        "    return df.rolling(window=window).mean()\n",
        "\n",
        "fpt_df['MA_5'] = MA(fpt_df['Close'], 5)\n",
        "fpt_df['MA_50'] = MA(fpt_df['Close'], 50)"
      ]
    },
    {
      "cell_type": "markdown",
      "metadata": {},
      "source": [
        "## 5.2 Relative Strength Index (RSI)\n",
        "- RSI is an oscillator that measures the speed and change of price movements. It fluctuates between 0 and 100."
      ]
    },
    {
      "cell_type": "code",
      "execution_count": 45,
      "metadata": {},
      "outputs": [],
      "source": [
        "def rsi(df, window):\n",
        "    delta = df.diff()\n",
        "    gain = (delta.where(delta > 0, 0)).rolling(window=window).mean()\n",
        "    loss = (-delta.where(delta < 0, 0)).rolling(window=window).mean()\n",
        "    rs = gain / loss\n",
        "    return 100 - (100 / (1 + rs))\n",
        "\n",
        "fpt_df['RSI_14'] = rsi(fpt_df['Close'], 14)\n"
      ]
    },
    {
      "cell_type": "markdown",
      "metadata": {},
      "source": [
        "## 5.3 Moving Average Convergence Divergence (MACD)\n",
        "- MACD is the difference between two EMA (Exponential Moving Average) lines with different time periods."
      ]
    },
    {
      "cell_type": "code",
      "execution_count": 46,
      "metadata": {},
      "outputs": [],
      "source": [
        "def ema(df, window):\n",
        "    return df.ewm(span=window, adjust=False).mean()\n",
        "\n",
        "fpt_df['EMA_12'] = ema(fpt_df['Close'], 12)\n",
        "fpt_df['EMA_26'] = ema(fpt_df['Close'], 26)\n",
        "fpt_df['MACD'] = fpt_df['EMA_12'] - fpt_df['EMA_26']\n",
        "fpt_df['Signal_Line'] = ema(fpt_df['MACD'], 9)\n"
      ]
    },
    {
      "cell_type": "code",
      "execution_count": 47,
      "metadata": {},
      "outputs": [],
      "source": [
        "fpt_df.dropna(inplace=True)"
      ]
    },
    {
      "cell_type": "markdown",
      "metadata": {},
      "source": [
        "# **6. Rebuild models**"
      ]
    },
    {
      "cell_type": "code",
      "execution_count": 48,
      "metadata": {},
      "outputs": [
        {
          "name": "stdout",
          "output_type": "stream",
          "text": [
            "45.073267228351995\n"
          ]
        }
      ],
      "source": [
        "features = ['Open', 'High', 'Low', 'Close', 'Volume', 'Open Interest', 'MA_5', 'MA_50', 'RSI_14', 'MACD', 'Signal_Line']\n",
        "\n",
        "X_train, X_test, y_train, y_test, scaler = time_split_data(fpt_df, features, target, scaler)"
      ]
    },
    {
      "cell_type": "code",
      "execution_count": 49,
      "metadata": {},
      "outputs": [
        {
          "name": "stdout",
          "output_type": "stream",
          "text": [
            "===> LR RMSE: 0.015194278116605653\n"
          ]
        }
      ],
      "source": [
        "_, rmse, model1 = get_score(model1, X_train, X_test, y_train, y_test)\n",
        "print('===> LR RMSE:', rmse)"
      ]
    },
    {
      "cell_type": "code",
      "execution_count": 50,
      "metadata": {},
      "outputs": [
        {
          "name": "stdout",
          "output_type": "stream",
          "text": [
            "Epoch [1/30], Loss: 0.0004\n",
            "Epoch [2/30], Loss: 0.0003\n",
            "Epoch [3/30], Loss: 0.0005\n",
            "Epoch [4/30], Loss: 0.0001\n",
            "Epoch [5/30], Loss: 0.0002\n",
            "Epoch [6/30], Loss: 0.0004\n",
            "Epoch [7/30], Loss: 0.0002\n",
            "Epoch [8/30], Loss: 0.0007\n",
            "Epoch [9/30], Loss: 0.0003\n",
            "Epoch [10/30], Loss: 0.0002\n",
            "Epoch [11/30], Loss: 0.0002\n",
            "Epoch [12/30], Loss: 0.0003\n",
            "Epoch [13/30], Loss: 0.0002\n",
            "Epoch [14/30], Loss: 0.0004\n",
            "Epoch [15/30], Loss: 0.0004\n",
            "Epoch [16/30], Loss: 0.0007\n",
            "Epoch [17/30], Loss: 0.0002\n",
            "Epoch [18/30], Loss: 0.0004\n",
            "Epoch [19/30], Loss: 0.0001\n",
            "Epoch [20/30], Loss: 0.0002\n",
            "Epoch [21/30], Loss: 0.0003\n",
            "Epoch [22/30], Loss: 0.0002\n",
            "Epoch [23/30], Loss: 0.0003\n",
            "Epoch [24/30], Loss: 0.0002\n",
            "Epoch [25/30], Loss: 0.0004\n",
            "Epoch [26/30], Loss: 0.0002\n",
            "Epoch [27/30], Loss: 0.0002\n",
            "Epoch [28/30], Loss: 0.0003\n",
            "Epoch [29/30], Loss: 0.0003\n",
            "Epoch [30/30], Loss: 0.0002\n",
            "\n",
            "\n",
            "===> LSTM RMSE: 0.13672928315054486\n"
          ]
        }
      ],
      "source": [
        "input_size = X_train.shape[1]\n",
        "model2 = StockLSTM(input_size, hidden_size, num_layers, output_size)\n",
        "\n",
        "train_loader, test_loader = get_data_loader(X_train, X_test, y_train, y_test)\n",
        "\n",
        "score, model2 = get_score_lstm(model2, train_loader, test_loader)\n",
        "print('\\n\\n===> LSTM RMSE:', score)"
      ]
    },
    {
      "cell_type": "markdown",
      "metadata": {},
      "source": [
        "# **7. Conclusion**"
      ]
    },
    {
      "cell_type": "code",
      "execution_count": 51,
      "metadata": {},
      "outputs": [],
      "source": [
        "joblib.dump(scaler, 'scaler.pkl')\n",
        "torch.save(model2, 'model1.pth')"
      ]
    },
    {
      "cell_type": "markdown",
      "metadata": {},
      "source": [
        "- Best model: `model1` (LinearRegression)\n",
        "- Step to predict: \n",
        "    - Scale input\n",
        "    - Create MA, RSI, MACD\n",
        "    - Load model\n",
        "    - Predict"
      ]
    },
    {
      "cell_type": "markdown",
      "metadata": {},
      "source": [
        "**Create function to get prediction from new data**"
      ]
    },
    {
      "cell_type": "code",
      "execution_count": 63,
      "metadata": {},
      "outputs": [],
      "source": [
        "def get_prediction(model, dataset, scaler, newdata):\n",
        "    features = ['Open', 'High', 'Low', 'Close', 'Volume', 'Open Interest', 'MA_5', 'MA_50', 'RSI_14', 'MACD', 'Signal_Line']\n",
        "    target = 'Target'\n",
        "    \n",
        "    data = pd.concat([dataset, newdata])\n",
        "    data.to_csv('data/data.csv', index=False)\n",
        "    \n",
        "    data = create_target_column(data, 30, False)\n",
        "    data['MA_5'] = MA(data['Close'], 5)\n",
        "    data['MA_50'] = MA(data['Close'], 50)\n",
        "    data['RSI_14'] = rsi(data['Close'], 14)\n",
        "    data['EMA_12'] = ema(data['Close'], 12)\n",
        "    data['EMA_26'] = ema(data['Close'], 26)\n",
        "    data['MACD'] = data['EMA_12'] - data['EMA_26']\n",
        "    data['Signal_Line'] = ema(data['MACD'], 9)\n",
        "    \n",
        "    data.dropna(inplace=True)\n",
        "    \n",
        "    input = data[features]\n",
        "    output = data[target]\n",
        "    \n",
        "    input = scaler.fit_transform(input)\n",
        "    output = scaler.fit_transform(output.values.reshape(-1, 1))\n",
        "    \n",
        "    input = torch.Tensor(input)\n",
        "    \n",
        "    input = input[-1].reshape(1, -1)\n",
        "    model.eval()\n",
        "    with torch.no_grad():\n",
        "        output = model(input)\n",
        "    price_after_30m = scaler.inverse_transform(output.numpy())[0][0]\n",
        "     \n",
        "    functuation = price_after_30m - newdata['Close'].iloc[-1]\n",
        "\n",
        "    print('The price functuation after 30 minutes is:', functuation)"
      ]
    },
    {
      "cell_type": "code",
      "execution_count": 64,
      "metadata": {},
      "outputs": [
        {
          "name": "stdout",
          "output_type": "stream",
          "text": [
            "The price functuation after 30 minutes is: -3.770125579833987\n"
          ]
        }
      ],
      "source": [
        "dict_data = {\n",
        "    'Ticker': 'FPT',\n",
        "    'Date/Time': '12/22/2020 14:47',\n",
        "    'Open': 58.2,\n",
        "    'High': 58.21,\n",
        "    'Low': 58.19,\n",
        "    'Close': 58.2,\n",
        "    'Volume': 100000,\n",
        "    'Open Interest': 0\n",
        "}\n",
        "\n",
        "model = torch.load('model1.pth')\n",
        "scaler = joblib.load('scaler.pkl')\n",
        "\n",
        "newdata = pd.DataFrame(dict_data, index=[0])\n",
        "dataset = pd.read_csv('data/FPT.csv')\n",
        "\n",
        "get_prediction(model, dataset, scaler, newdata)\n"
      ]
    }
  ],
  "metadata": {
    "accelerator": "TPU",
    "colab": {
      "gpuType": "V28",
      "provenance": []
    },
    "kernelspec": {
      "display_name": "Python 3",
      "name": "python3"
    },
    "language_info": {
      "codemirror_mode": {
        "name": "ipython",
        "version": 3
      },
      "file_extension": ".py",
      "mimetype": "text/x-python",
      "name": "python",
      "nbconvert_exporter": "python",
      "pygments_lexer": "ipython3",
      "version": "3.11.5"
    }
  },
  "nbformat": 4,
  "nbformat_minor": 0
}
